{
 "metadata": {
  "name": "bshmm"
 },
 "nbformat": 3,
 "nbformat_minor": 0,
 "worksheets": [
  {
   "cells": [
    {
     "cell_type": "markdown",
     "metadata": {},
     "source": [
      "## Hidden Markov Model for DNA methylation profiling on human WGBS data. "
     ]
    }
   ],
   "metadata": {}
  }
 ]
}